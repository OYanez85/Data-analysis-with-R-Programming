{
  "cells": [
    {
      "cell_type": "markdown",
      "source": [
        "[![Open In Colab](https://colab.research.google.com/assets/colab-badge.svg)](https://colab.research.google.com/github/rmotr-curriculum/RDP-Reading-Data-with-Python-and-Pandas/blob/master/unit-1-reading-data-with-python-and-pandas/lesson-1-reading-csv-and-txt-files/files/Lecture.ipynb)\n"
      ],
      "metadata": {
        "id": "p-rEfCtnQ-vg"
      }
    },
    {
      "cell_type": "markdown",
      "metadata": {
        "id": "m2_LX_9ZQ8li"
      },
      "source": [
        "![rmotr](https://user-images.githubusercontent.com/7065401/52071918-bda15380-2562-11e9-828c-7f95297e4a82.png)\n",
        "<hr style=\"margin-bottom: 40px;\">\n",
        "\n",
        "<img src=\"https://user-images.githubusercontent.com/7065401/68501079-0695df00-023c-11ea-841f-455dac84a089.jpg\"\n",
        "    style=\"width:400px; float: right; margin: 0 40px 40px 40px;\"></img>\n",
        "\n",
        "# Reading CSV and TXT files\n",
        "\n",
        "Rather than creating `Series` or `DataFrames` strutures from scratch, or even from Python core sequences or `ndarrays`, the most typical use of **pandas** is based on the loading of information from files or sources of information for further exploration, transformation and analysis.\n",
        "\n",
        "In this lecture we'll learn how to read comma-separated values files (.csv) and raw text files (.txt) into pandas `DataFrame`s."
      ]
    },
    {
      "cell_type": "markdown",
      "metadata": {
        "id": "K9gT0_KsQ8lk"
      },
      "source": [
        "![purple-divider](https://user-images.githubusercontent.com/7065401/52071927-c1cd7100-2562-11e9-908a-dde91ba14e59.png)\n",
        "\n",
        "## Hands on!"
      ]
    },
    {
      "cell_type": "code",
      "execution_count": null,
      "metadata": {
        "id": "E5TBbGwaQ8ll"
      },
      "outputs": [],
      "source": [
        "import pandas as pd"
      ]
    },
    {
      "cell_type": "markdown",
      "metadata": {
        "id": "vjcNVh0KQ8ll"
      },
      "source": [
        "![green-divider](https://user-images.githubusercontent.com/7065401/52071924-c003ad80-2562-11e9-8297-1c6595f8a7ff.png)\n",
        "\n",
        "## Reading data with Python\n",
        "\n",
        "As we saw on previous courses we can read data simply using Python.\n",
        "\n",
        "When you want to work with a file, the first thing to do is to open it. This is done by invoking the `open()` built-in function.\n",
        "\n",
        "`open()` has a single required argument that is the path to the file and has a single return, the file object.\n",
        "\n",
        "The `with` statement automatically takes care of closing the file once it leaves the `with` block, even in cases of error."
      ]
    },
    {
      "cell_type": "code",
      "execution_count": null,
      "metadata": {
        "id": "hW8qvDi6Q8lm",
        "outputId": "c4a78b1e-0bec-4dea-af8f-ff1675f59ef3"
      },
      "outputs": [
        {
          "name": "stdout",
          "output_type": "stream",
          "text": [
            "<_io.TextIOWrapper name='btc-market-price.csv' mode='r' encoding='UTF-8'>\n"
          ]
        }
      ],
      "source": [
        "filepath = 'btc-market-price.csv'\n",
        "\n",
        "with open(filepath, 'r') as reader:\n",
        "    print(reader)"
      ]
    },
    {
      "cell_type": "markdown",
      "metadata": {
        "id": "2eV74On-Q8lm"
      },
      "source": [
        "Once the file is opened, we can read its content as follows:"
      ]
    },
    {
      "cell_type": "code",
      "execution_count": null,
      "metadata": {
        "id": "L-6sifTsQ8lm",
        "outputId": "5d7e593f-b86a-41ae-acf0-b4ac0b2c9eea"
      },
      "outputs": [
        {
          "name": "stdout",
          "output_type": "stream",
          "text": [
            "0 2/4/17 0:00,1099.169125\n",
            "\n",
            "1 3/4/17 0:00,1141.813\n",
            "\n",
            "2 4/4/17 0:00,?\n",
            "\n",
            "3 5/4/17 0:00,1133.079314\n",
            "\n",
            "4 6/4/17 0:00,-\n",
            "\n",
            "5 7/4/17 0:00,-\n",
            "\n",
            "6 8/4/17 0:00,1181.149838\n",
            "\n",
            "7 9/4/17 0:00,1208.8005\n",
            "\n",
            "8 10/4/17 0:00,1207.744875\n",
            "\n",
            "9 11/4/17 0:00,1226.617038\n",
            "\n"
          ]
        }
      ],
      "source": [
        "filepath = 'btc-market-price.csv'\n",
        "\n",
        "with open(filepath, 'r') as reader:\n",
        "    for index, line in enumerate(reader.readlines()):\n",
        "        # read just the first 10 lines\n",
        "        if (index < 10):\n",
        "            print(index, line)"
      ]
    },
    {
      "cell_type": "markdown",
      "metadata": {
        "id": "YqBqfidkQ8ln"
      },
      "source": [
        "![green-divider](https://user-images.githubusercontent.com/7065401/52071924-c003ad80-2562-11e9-8297-1c6595f8a7ff.png)\n",
        "\n",
        "## Reading data with Pandas\n",
        "\n",
        "Probably one of the most recurrent types of work for data analysis: public data sources, logs, historical information tables, exports from databases. So the pandas library offers us functions to read and write files in multiple formats like CSV, JSON, XML and Excel's XLSX, all of them creating a `DataFrame` with the information read from the file.\n",
        "\n",
        "We'll learn how to read different type of data including:\n",
        "- CSV files (.csv)\n",
        "- Raw text files (.txt)\n",
        "- JSON data from a file and from an API\n",
        "- Data from a SQL query over a database\n",
        "\n",
        "There are many other available reading functions as the following table shows:\n",
        "\n",
        "![pandas read data table](https://user-images.githubusercontent.com/7065401/68400151-51d5c200-0156-11ea-9732-aa00400c8e4b.png)"
      ]
    },
    {
      "cell_type": "markdown",
      "metadata": {
        "id": "b0WchI97Q8ln"
      },
      "source": [
        "![green-divider](https://user-images.githubusercontent.com/7065401/52071924-c003ad80-2562-11e9-8297-1c6595f8a7ff.png)\n",
        "\n",
        "## The `read_csv` method\n",
        "\n",
        "The first method we'll learn is **read_csv**, that let us read comma-separated values (CSV) files and raw text (TXT) files into a `DataFrame`.\n",
        "\n",
        "The `read_csv` function is extremely powerful and you can specify a very broad set of parameters at import time that allow us to accurately configure how the data will be read and parsed by specifying the correct structure, enconding and other details. The most common parameters are as follows:\n",
        "\n",
        "- `filepath`: Path of the file to be read.\n",
        "- `sep`: Character(s) that are used as a field separator in the file.\n",
        "- `header`: Index of the row containing the names of the columns (None if none).\n",
        "- `index_col`: Index of the column or sequence of indexes that should be used as index of rows of the data.\n",
        "- `names`: Sequence containing the names of the columns (used together with header = None).\n",
        "- `skiprows`: Number of rows or sequence of row indexes to ignore in the load.\n",
        "- `na_values`: Sequence of values that, if found in the file, should be treated as NaN.\n",
        "- `dtype`: Dictionary in which the keys will be column names and the values will be types of NumPy to which their content must be converted.\n",
        "- `parse_dates`: Flag that indicates if Python should try to parse data with a format similar to dates as dates. You can enter a list of column names that must be joined for the parsing as a date.\n",
        "- `date_parser`: Function to use to try to parse dates.\n",
        "- `nrows`: Number of rows to read from the beginning of the file.\n",
        "- `skip_footer`: Number of rows to ignore at the end of the file.\n",
        "- `encoding`: Encoding to be expected from the file read.\n",
        "- `squeeze`: Flag that indicates that if the data read only contains one column the result is a Series instead of a DataFrame.\n",
        "- `thousands`: Character to use to detect the thousands separator.\n",
        "- `decimal`: Character to use to detect the decimal separator.\n",
        "- `skip_blank_lines`: Flag that indicates whether blank lines should be ignored.\n",
        "\n",
        "> Full `read_csv` documentation can be found here: https://pandas.pydata.org/pandas-docs/stable/reference/api/pandas.read_csv.html."
      ]
    },
    {
      "cell_type": "markdown",
      "metadata": {
        "id": "Y5J0XVd7Q8ln"
      },
      "source": [
        "In this case we'll try to read our `btc-market-price.csv` CSV file using different parameters to parse it correctly.\n",
        "\n",
        "This file contains records of the mean price of Bitcoin per date."
      ]
    },
    {
      "cell_type": "markdown",
      "metadata": {
        "id": "j7yLJOkjQ8ln"
      },
      "source": [
        "![green-divider](https://user-images.githubusercontent.com/7065401/52071924-c003ad80-2562-11e9-8297-1c6595f8a7ff.png)\n",
        "\n",
        "## Reading our first CSV file\n",
        "\n",
        "Everytime we call `read_csv` method, we'll need to pass an explicit `filepath` parameter indicating the path where our CSV file is.\n",
        "\n",
        "Any valid string path is acceptable. The string could be a URL. Valid URL schemes include HTTP, FTP, S3, and file. For file URLs, a host is expected. A local file could be: `file://localhost/path/to/table.csv`.\n",
        "\n",
        "For example we can use `read_csv` method to load data directly from an URL:"
      ]
    },
    {
      "cell_type": "code",
      "execution_count": null,
      "metadata": {
        "id": "yLQbjXf3Q8ln",
        "outputId": "8af7287e-e3b8-4539-b3a3-5545f203501e"
      },
      "outputs": [
        {
          "data": {
            "text/html": [
              "<div>\n",
              "<style scoped>\n",
              "    .dataframe tbody tr th:only-of-type {\n",
              "        vertical-align: middle;\n",
              "    }\n",
              "\n",
              "    .dataframe tbody tr th {\n",
              "        vertical-align: top;\n",
              "    }\n",
              "\n",
              "    .dataframe thead th {\n",
              "        text-align: right;\n",
              "    }\n",
              "</style>\n",
              "<table border=\"1\" class=\"dataframe\">\n",
              "  <thead>\n",
              "    <tr style=\"text-align: right;\">\n",
              "      <th></th>\n",
              "      <th>Country Name</th>\n",
              "      <th>Country Code</th>\n",
              "      <th>Year</th>\n",
              "      <th>Value</th>\n",
              "    </tr>\n",
              "  </thead>\n",
              "  <tbody>\n",
              "    <tr>\n",
              "      <th>0</th>\n",
              "      <td>Arab World</td>\n",
              "      <td>ARB</td>\n",
              "      <td>1968</td>\n",
              "      <td>2.576068e+10</td>\n",
              "    </tr>\n",
              "    <tr>\n",
              "      <th>1</th>\n",
              "      <td>Arab World</td>\n",
              "      <td>ARB</td>\n",
              "      <td>1969</td>\n",
              "      <td>2.843420e+10</td>\n",
              "    </tr>\n",
              "    <tr>\n",
              "      <th>2</th>\n",
              "      <td>Arab World</td>\n",
              "      <td>ARB</td>\n",
              "      <td>1970</td>\n",
              "      <td>3.138550e+10</td>\n",
              "    </tr>\n",
              "    <tr>\n",
              "      <th>3</th>\n",
              "      <td>Arab World</td>\n",
              "      <td>ARB</td>\n",
              "      <td>1971</td>\n",
              "      <td>3.642691e+10</td>\n",
              "    </tr>\n",
              "    <tr>\n",
              "      <th>4</th>\n",
              "      <td>Arab World</td>\n",
              "      <td>ARB</td>\n",
              "      <td>1972</td>\n",
              "      <td>4.331606e+10</td>\n",
              "    </tr>\n",
              "  </tbody>\n",
              "</table>\n",
              "</div>"
            ],
            "text/plain": [
              "  Country Name Country Code  Year         Value\n",
              "0   Arab World          ARB  1968  2.576068e+10\n",
              "1   Arab World          ARB  1969  2.843420e+10\n",
              "2   Arab World          ARB  1970  3.138550e+10\n",
              "3   Arab World          ARB  1971  3.642691e+10\n",
              "4   Arab World          ARB  1972  4.331606e+10"
            ]
          },
          "execution_count": 4,
          "metadata": {},
          "output_type": "execute_result"
        }
      ],
      "source": [
        "csv_url = \"https://raw.githubusercontent.com/datasets/gdp/master/data/gdp.csv\"\n",
        "\n",
        "pd.read_csv(csv_url).head()"
      ]
    },
    {
      "cell_type": "markdown",
      "metadata": {
        "id": "uJZtKMGDQ8ln"
      },
      "source": [
        "Or just use a local file:"
      ]
    },
    {
      "cell_type": "code",
      "execution_count": null,
      "metadata": {
        "scrolled": true,
        "id": "ykLD8QNNQ8lo",
        "outputId": "abcfd415-6b83-4325-adc2-5ad6936e3ee0"
      },
      "outputs": [
        {
          "data": {
            "text/html": [
              "<div>\n",
              "<style scoped>\n",
              "    .dataframe tbody tr th:only-of-type {\n",
              "        vertical-align: middle;\n",
              "    }\n",
              "\n",
              "    .dataframe tbody tr th {\n",
              "        vertical-align: top;\n",
              "    }\n",
              "\n",
              "    .dataframe thead th {\n",
              "        text-align: right;\n",
              "    }\n",
              "</style>\n",
              "<table border=\"1\" class=\"dataframe\">\n",
              "  <thead>\n",
              "    <tr style=\"text-align: right;\">\n",
              "      <th></th>\n",
              "      <th>2/4/17 0:00</th>\n",
              "      <th>1099.169125</th>\n",
              "    </tr>\n",
              "  </thead>\n",
              "  <tbody>\n",
              "    <tr>\n",
              "      <th>0</th>\n",
              "      <td>3/4/17 0:00</td>\n",
              "      <td>1141.813</td>\n",
              "    </tr>\n",
              "    <tr>\n",
              "      <th>1</th>\n",
              "      <td>4/4/17 0:00</td>\n",
              "      <td>?</td>\n",
              "    </tr>\n",
              "    <tr>\n",
              "      <th>2</th>\n",
              "      <td>5/4/17 0:00</td>\n",
              "      <td>1133.079314</td>\n",
              "    </tr>\n",
              "    <tr>\n",
              "      <th>3</th>\n",
              "      <td>6/4/17 0:00</td>\n",
              "      <td>-</td>\n",
              "    </tr>\n",
              "    <tr>\n",
              "      <th>4</th>\n",
              "      <td>7/4/17 0:00</td>\n",
              "      <td>-</td>\n",
              "    </tr>\n",
              "  </tbody>\n",
              "</table>\n",
              "</div>"
            ],
            "text/plain": [
              "   2/4/17 0:00  1099.169125\n",
              "0  3/4/17 0:00     1141.813\n",
              "1  4/4/17 0:00            ?\n",
              "2  5/4/17 0:00  1133.079314\n",
              "3  6/4/17 0:00            -\n",
              "4  7/4/17 0:00            -"
            ]
          },
          "execution_count": 5,
          "metadata": {},
          "output_type": "execute_result"
        }
      ],
      "source": [
        "df = pd.read_csv('btc-market-price.csv')\n",
        "\n",
        "df.head()"
      ]
    },
    {
      "cell_type": "markdown",
      "metadata": {
        "id": "aaC7I7JcQ8lo"
      },
      "source": [
        "In this case we let pandas infer everything related to our data, but in most of the cases we'll need to explicitly tell pandas how we want our data to be loaded. To do that we use parameters.\n",
        "\n",
        "Let's see how theses parameters work."
      ]
    },
    {
      "cell_type": "markdown",
      "metadata": {
        "id": "4McxN2N1Q8lo"
      },
      "source": [
        "![green-divider](https://user-images.githubusercontent.com/7065401/52071924-c003ad80-2562-11e9-8297-1c6595f8a7ff.png)\n",
        "\n",
        "## First row behaviour with `header` parameter\n",
        "\n",
        "The CSV file we're reading has only two columns: `Timestamp` and `Price`. It doesn't have a header. Pandas automatically assigned the first row of data as headers, which is incorrect. We can overwrite this behavior with the `header` parameter."
      ]
    },
    {
      "cell_type": "code",
      "execution_count": null,
      "metadata": {
        "id": "-2uy6SW7Q8lo"
      },
      "outputs": [],
      "source": [
        "df = pd.read_csv('btc-market-price.csv',\n",
        "                 header=None)"
      ]
    },
    {
      "cell_type": "code",
      "execution_count": null,
      "metadata": {
        "id": "GlFdPsPyQ8lo",
        "outputId": "2a8eefae-43a4-49c6-a083-7490591d6075"
      },
      "outputs": [
        {
          "data": {
            "text/html": [
              "<div>\n",
              "<style scoped>\n",
              "    .dataframe tbody tr th:only-of-type {\n",
              "        vertical-align: middle;\n",
              "    }\n",
              "\n",
              "    .dataframe tbody tr th {\n",
              "        vertical-align: top;\n",
              "    }\n",
              "\n",
              "    .dataframe thead th {\n",
              "        text-align: right;\n",
              "    }\n",
              "</style>\n",
              "<table border=\"1\" class=\"dataframe\">\n",
              "  <thead>\n",
              "    <tr style=\"text-align: right;\">\n",
              "      <th></th>\n",
              "      <th>0</th>\n",
              "      <th>1</th>\n",
              "    </tr>\n",
              "  </thead>\n",
              "  <tbody>\n",
              "    <tr>\n",
              "      <th>0</th>\n",
              "      <td>2/4/17 0:00</td>\n",
              "      <td>1099.169125</td>\n",
              "    </tr>\n",
              "    <tr>\n",
              "      <th>1</th>\n",
              "      <td>3/4/17 0:00</td>\n",
              "      <td>1141.813</td>\n",
              "    </tr>\n",
              "    <tr>\n",
              "      <th>2</th>\n",
              "      <td>4/4/17 0:00</td>\n",
              "      <td>?</td>\n",
              "    </tr>\n",
              "    <tr>\n",
              "      <th>3</th>\n",
              "      <td>5/4/17 0:00</td>\n",
              "      <td>1133.079314</td>\n",
              "    </tr>\n",
              "    <tr>\n",
              "      <th>4</th>\n",
              "      <td>6/4/17 0:00</td>\n",
              "      <td>-</td>\n",
              "    </tr>\n",
              "  </tbody>\n",
              "</table>\n",
              "</div>"
            ],
            "text/plain": [
              "             0            1\n",
              "0  2/4/17 0:00  1099.169125\n",
              "1  3/4/17 0:00     1141.813\n",
              "2  4/4/17 0:00            ?\n",
              "3  5/4/17 0:00  1133.079314\n",
              "4  6/4/17 0:00            -"
            ]
          },
          "execution_count": 7,
          "metadata": {},
          "output_type": "execute_result"
        }
      ],
      "source": [
        "df.head()"
      ]
    },
    {
      "cell_type": "markdown",
      "metadata": {
        "id": "wfskq-WIQ8lo"
      },
      "source": [
        "![green-divider](https://user-images.githubusercontent.com/7065401/52071924-c003ad80-2562-11e9-8297-1c6595f8a7ff.png)\n",
        "\n",
        "## Missing values with `na_values` parameter\n",
        "\n",
        "We can define a `na_values` parameter with the values we want to be recognized as NA/NaN. In this case empty strings `''`, `?` and `-` will be recognized as null values."
      ]
    },
    {
      "cell_type": "code",
      "execution_count": null,
      "metadata": {
        "id": "-JfRdsC9Q8lo"
      },
      "outputs": [],
      "source": [
        "df = pd.read_csv('btc-market-price.csv',\n",
        "                 header=None,\n",
        "                 na_values=['', '?', '-'])"
      ]
    },
    {
      "cell_type": "code",
      "execution_count": null,
      "metadata": {
        "id": "1BBbelHGQ8lo",
        "outputId": "f14c49d5-4e08-416c-f130-bfbcb4f8bf6f"
      },
      "outputs": [
        {
          "data": {
            "text/html": [
              "<div>\n",
              "<style scoped>\n",
              "    .dataframe tbody tr th:only-of-type {\n",
              "        vertical-align: middle;\n",
              "    }\n",
              "\n",
              "    .dataframe tbody tr th {\n",
              "        vertical-align: top;\n",
              "    }\n",
              "\n",
              "    .dataframe thead th {\n",
              "        text-align: right;\n",
              "    }\n",
              "</style>\n",
              "<table border=\"1\" class=\"dataframe\">\n",
              "  <thead>\n",
              "    <tr style=\"text-align: right;\">\n",
              "      <th></th>\n",
              "      <th>0</th>\n",
              "      <th>1</th>\n",
              "    </tr>\n",
              "  </thead>\n",
              "  <tbody>\n",
              "    <tr>\n",
              "      <th>0</th>\n",
              "      <td>2/4/17 0:00</td>\n",
              "      <td>1099.169125</td>\n",
              "    </tr>\n",
              "    <tr>\n",
              "      <th>1</th>\n",
              "      <td>3/4/17 0:00</td>\n",
              "      <td>1141.813000</td>\n",
              "    </tr>\n",
              "    <tr>\n",
              "      <th>2</th>\n",
              "      <td>4/4/17 0:00</td>\n",
              "      <td>NaN</td>\n",
              "    </tr>\n",
              "    <tr>\n",
              "      <th>3</th>\n",
              "      <td>5/4/17 0:00</td>\n",
              "      <td>1133.079314</td>\n",
              "    </tr>\n",
              "    <tr>\n",
              "      <th>4</th>\n",
              "      <td>6/4/17 0:00</td>\n",
              "      <td>NaN</td>\n",
              "    </tr>\n",
              "  </tbody>\n",
              "</table>\n",
              "</div>"
            ],
            "text/plain": [
              "             0            1\n",
              "0  2/4/17 0:00  1099.169125\n",
              "1  3/4/17 0:00  1141.813000\n",
              "2  4/4/17 0:00          NaN\n",
              "3  5/4/17 0:00  1133.079314\n",
              "4  6/4/17 0:00          NaN"
            ]
          },
          "execution_count": 9,
          "metadata": {},
          "output_type": "execute_result"
        }
      ],
      "source": [
        "df.head()"
      ]
    },
    {
      "cell_type": "markdown",
      "metadata": {
        "id": "cuI3Vsm4Q8lo"
      },
      "source": [
        "![green-divider](https://user-images.githubusercontent.com/7065401/52071924-c003ad80-2562-11e9-8297-1c6595f8a7ff.png)\n",
        "\n",
        "## Column names using `names` parameter\n",
        "\n",
        "We'll add that columns names using the `names` parameter."
      ]
    },
    {
      "cell_type": "code",
      "execution_count": null,
      "metadata": {
        "id": "KoTbSXq3Q8lo"
      },
      "outputs": [],
      "source": [
        "df = pd.read_csv('btc-market-price.csv',\n",
        "                 header=None,\n",
        "                 na_values=['', '?', '-'],\n",
        "                 names=['Timestamp', 'Price'])"
      ]
    },
    {
      "cell_type": "code",
      "execution_count": null,
      "metadata": {
        "scrolled": true,
        "id": "y87V3rmfQ8lp",
        "outputId": "e571ad3e-e493-4c1e-a19e-9eaea54620ad"
      },
      "outputs": [
        {
          "data": {
            "text/html": [
              "<div>\n",
              "<style scoped>\n",
              "    .dataframe tbody tr th:only-of-type {\n",
              "        vertical-align: middle;\n",
              "    }\n",
              "\n",
              "    .dataframe tbody tr th {\n",
              "        vertical-align: top;\n",
              "    }\n",
              "\n",
              "    .dataframe thead th {\n",
              "        text-align: right;\n",
              "    }\n",
              "</style>\n",
              "<table border=\"1\" class=\"dataframe\">\n",
              "  <thead>\n",
              "    <tr style=\"text-align: right;\">\n",
              "      <th></th>\n",
              "      <th>Timestamp</th>\n",
              "      <th>Price</th>\n",
              "    </tr>\n",
              "  </thead>\n",
              "  <tbody>\n",
              "    <tr>\n",
              "      <th>0</th>\n",
              "      <td>2/4/17 0:00</td>\n",
              "      <td>1099.169125</td>\n",
              "    </tr>\n",
              "    <tr>\n",
              "      <th>1</th>\n",
              "      <td>3/4/17 0:00</td>\n",
              "      <td>1141.813000</td>\n",
              "    </tr>\n",
              "    <tr>\n",
              "      <th>2</th>\n",
              "      <td>4/4/17 0:00</td>\n",
              "      <td>NaN</td>\n",
              "    </tr>\n",
              "    <tr>\n",
              "      <th>3</th>\n",
              "      <td>5/4/17 0:00</td>\n",
              "      <td>1133.079314</td>\n",
              "    </tr>\n",
              "    <tr>\n",
              "      <th>4</th>\n",
              "      <td>6/4/17 0:00</td>\n",
              "      <td>NaN</td>\n",
              "    </tr>\n",
              "  </tbody>\n",
              "</table>\n",
              "</div>"
            ],
            "text/plain": [
              "     Timestamp        Price\n",
              "0  2/4/17 0:00  1099.169125\n",
              "1  3/4/17 0:00  1141.813000\n",
              "2  4/4/17 0:00          NaN\n",
              "3  5/4/17 0:00  1133.079314\n",
              "4  6/4/17 0:00          NaN"
            ]
          },
          "execution_count": 11,
          "metadata": {},
          "output_type": "execute_result"
        }
      ],
      "source": [
        "df.head()"
      ]
    },
    {
      "cell_type": "markdown",
      "metadata": {
        "id": "dCz0OToVQ8lp"
      },
      "source": [
        "![green-divider](https://user-images.githubusercontent.com/7065401/52071924-c003ad80-2562-11e9-8297-1c6595f8a7ff.png)\n",
        "\n",
        "## Column types using `dtype` parameter\n",
        "\n",
        "\n",
        "Without using the `dtype` parameter pandas will try to figure it out the type of each column automatically. We can use `dtype` parameter to force pandas to use certain dtype.\n",
        "\n",
        "In this case we'll force the `Price` column to be `float`."
      ]
    },
    {
      "cell_type": "code",
      "execution_count": null,
      "metadata": {
        "id": "iX-cZpe2Q8lp"
      },
      "outputs": [],
      "source": [
        "df = pd.read_csv('btc-market-price.csv',\n",
        "                 header=None,\n",
        "                 na_values=['', '?', '-'],\n",
        "                 names=['Timestamp', 'Price'],\n",
        "                 dtype={'Price': 'float'})"
      ]
    },
    {
      "cell_type": "code",
      "execution_count": null,
      "metadata": {
        "id": "yaNH-iLTQ8lp",
        "outputId": "30e77d12-68bd-4109-d32d-b47ddbc46889"
      },
      "outputs": [
        {
          "data": {
            "text/html": [
              "<div>\n",
              "<style scoped>\n",
              "    .dataframe tbody tr th:only-of-type {\n",
              "        vertical-align: middle;\n",
              "    }\n",
              "\n",
              "    .dataframe tbody tr th {\n",
              "        vertical-align: top;\n",
              "    }\n",
              "\n",
              "    .dataframe thead th {\n",
              "        text-align: right;\n",
              "    }\n",
              "</style>\n",
              "<table border=\"1\" class=\"dataframe\">\n",
              "  <thead>\n",
              "    <tr style=\"text-align: right;\">\n",
              "      <th></th>\n",
              "      <th>Timestamp</th>\n",
              "      <th>Price</th>\n",
              "    </tr>\n",
              "  </thead>\n",
              "  <tbody>\n",
              "    <tr>\n",
              "      <th>0</th>\n",
              "      <td>2/4/17 0:00</td>\n",
              "      <td>1099.169125</td>\n",
              "    </tr>\n",
              "    <tr>\n",
              "      <th>1</th>\n",
              "      <td>3/4/17 0:00</td>\n",
              "      <td>1141.813000</td>\n",
              "    </tr>\n",
              "    <tr>\n",
              "      <th>2</th>\n",
              "      <td>4/4/17 0:00</td>\n",
              "      <td>NaN</td>\n",
              "    </tr>\n",
              "    <tr>\n",
              "      <th>3</th>\n",
              "      <td>5/4/17 0:00</td>\n",
              "      <td>1133.079314</td>\n",
              "    </tr>\n",
              "    <tr>\n",
              "      <th>4</th>\n",
              "      <td>6/4/17 0:00</td>\n",
              "      <td>NaN</td>\n",
              "    </tr>\n",
              "  </tbody>\n",
              "</table>\n",
              "</div>"
            ],
            "text/plain": [
              "     Timestamp        Price\n",
              "0  2/4/17 0:00  1099.169125\n",
              "1  3/4/17 0:00  1141.813000\n",
              "2  4/4/17 0:00          NaN\n",
              "3  5/4/17 0:00  1133.079314\n",
              "4  6/4/17 0:00          NaN"
            ]
          },
          "execution_count": 13,
          "metadata": {},
          "output_type": "execute_result"
        }
      ],
      "source": [
        "df.head()"
      ]
    },
    {
      "cell_type": "code",
      "execution_count": null,
      "metadata": {
        "id": "O-olEpaqQ8lp",
        "outputId": "cbad3728-d4d3-4b93-d0cd-17e1fc70e389"
      },
      "outputs": [
        {
          "data": {
            "text/plain": [
              "Timestamp     object\n",
              "Price        float64\n",
              "dtype: object"
            ]
          },
          "execution_count": 14,
          "metadata": {},
          "output_type": "execute_result"
        }
      ],
      "source": [
        "df.dtypes"
      ]
    },
    {
      "cell_type": "markdown",
      "metadata": {
        "id": "IQI0ldUVQ8lp"
      },
      "source": [
        "The `Timestamp` column was interpreted as a regular string (`object` in pandas notation), we can parse it manually using a vectorized operation as we saw on previous courses.\n",
        "\n",
        "We'll parse `Timestamp` column to `Datetime` objects using `to_datetime` method:"
      ]
    },
    {
      "cell_type": "code",
      "execution_count": null,
      "metadata": {
        "id": "BVqDJ-rLQ8lp",
        "outputId": "b81c2e23-04b9-4b92-c714-d08ab904a684"
      },
      "outputs": [
        {
          "data": {
            "text/plain": [
              "0   2017-02-04\n",
              "1   2017-03-04\n",
              "2   2017-04-04\n",
              "3   2017-05-04\n",
              "4   2017-06-04\n",
              "Name: Timestamp, dtype: datetime64[ns]"
            ]
          },
          "execution_count": 15,
          "metadata": {},
          "output_type": "execute_result"
        }
      ],
      "source": [
        "pd.to_datetime(df['Timestamp']).head()"
      ]
    },
    {
      "cell_type": "code",
      "execution_count": null,
      "metadata": {
        "id": "MTk-maRyQ8lp"
      },
      "outputs": [],
      "source": [
        "df['Timestamp'] = pd.to_datetime(df['Timestamp'])"
      ]
    },
    {
      "cell_type": "code",
      "execution_count": null,
      "metadata": {
        "id": "GzV-3WMMQ8lp",
        "outputId": "c77d84ef-1b73-4297-d80b-69c12c72eea3"
      },
      "outputs": [
        {
          "data": {
            "text/html": [
              "<div>\n",
              "<style scoped>\n",
              "    .dataframe tbody tr th:only-of-type {\n",
              "        vertical-align: middle;\n",
              "    }\n",
              "\n",
              "    .dataframe tbody tr th {\n",
              "        vertical-align: top;\n",
              "    }\n",
              "\n",
              "    .dataframe thead th {\n",
              "        text-align: right;\n",
              "    }\n",
              "</style>\n",
              "<table border=\"1\" class=\"dataframe\">\n",
              "  <thead>\n",
              "    <tr style=\"text-align: right;\">\n",
              "      <th></th>\n",
              "      <th>Timestamp</th>\n",
              "      <th>Price</th>\n",
              "    </tr>\n",
              "  </thead>\n",
              "  <tbody>\n",
              "    <tr>\n",
              "      <th>0</th>\n",
              "      <td>2017-02-04</td>\n",
              "      <td>1099.169125</td>\n",
              "    </tr>\n",
              "    <tr>\n",
              "      <th>1</th>\n",
              "      <td>2017-03-04</td>\n",
              "      <td>1141.813000</td>\n",
              "    </tr>\n",
              "    <tr>\n",
              "      <th>2</th>\n",
              "      <td>2017-04-04</td>\n",
              "      <td>NaN</td>\n",
              "    </tr>\n",
              "    <tr>\n",
              "      <th>3</th>\n",
              "      <td>2017-05-04</td>\n",
              "      <td>1133.079314</td>\n",
              "    </tr>\n",
              "    <tr>\n",
              "      <th>4</th>\n",
              "      <td>2017-06-04</td>\n",
              "      <td>NaN</td>\n",
              "    </tr>\n",
              "  </tbody>\n",
              "</table>\n",
              "</div>"
            ],
            "text/plain": [
              "   Timestamp        Price\n",
              "0 2017-02-04  1099.169125\n",
              "1 2017-03-04  1141.813000\n",
              "2 2017-04-04          NaN\n",
              "3 2017-05-04  1133.079314\n",
              "4 2017-06-04          NaN"
            ]
          },
          "execution_count": 17,
          "metadata": {},
          "output_type": "execute_result"
        }
      ],
      "source": [
        "df.head()"
      ]
    },
    {
      "cell_type": "code",
      "execution_count": null,
      "metadata": {
        "id": "hdbExRGDQ8lp",
        "outputId": "994e440c-2b45-4a1c-92e8-d230e56d3098"
      },
      "outputs": [
        {
          "data": {
            "text/plain": [
              "Timestamp    datetime64[ns]\n",
              "Price               float64\n",
              "dtype: object"
            ]
          },
          "execution_count": 18,
          "metadata": {},
          "output_type": "execute_result"
        }
      ],
      "source": [
        "df.dtypes"
      ]
    },
    {
      "cell_type": "markdown",
      "metadata": {
        "id": "zSffJgHoQ8lp"
      },
      "source": [
        "![green-divider](https://user-images.githubusercontent.com/7065401/52071924-c003ad80-2562-11e9-8297-1c6595f8a7ff.png)\n",
        "\n",
        "## Date parser using `parse_dates` parameter\n",
        "\n",
        "Another way of dealing with `Datetime` objects is using `parse_dates` parameter with the position of the columns with dates."
      ]
    },
    {
      "cell_type": "code",
      "execution_count": null,
      "metadata": {
        "scrolled": false,
        "id": "oLrFgSEKQ8lp"
      },
      "outputs": [],
      "source": [
        "df = pd.read_csv('btc-market-price.csv',\n",
        "                 header=None,\n",
        "                 na_values=['', '?', '-'],\n",
        "                 names=['Timestamp', 'Price'],\n",
        "                 dtype={'Price': 'float'},\n",
        "                 parse_dates=[0])"
      ]
    },
    {
      "cell_type": "code",
      "execution_count": null,
      "metadata": {
        "id": "T3tvE6TLQ8lp",
        "outputId": "f0ade363-10e7-4be9-94be-9c3ceaf5ab91"
      },
      "outputs": [
        {
          "data": {
            "text/html": [
              "<div>\n",
              "<style scoped>\n",
              "    .dataframe tbody tr th:only-of-type {\n",
              "        vertical-align: middle;\n",
              "    }\n",
              "\n",
              "    .dataframe tbody tr th {\n",
              "        vertical-align: top;\n",
              "    }\n",
              "\n",
              "    .dataframe thead th {\n",
              "        text-align: right;\n",
              "    }\n",
              "</style>\n",
              "<table border=\"1\" class=\"dataframe\">\n",
              "  <thead>\n",
              "    <tr style=\"text-align: right;\">\n",
              "      <th></th>\n",
              "      <th>Timestamp</th>\n",
              "      <th>Price</th>\n",
              "    </tr>\n",
              "  </thead>\n",
              "  <tbody>\n",
              "    <tr>\n",
              "      <th>0</th>\n",
              "      <td>2017-02-04</td>\n",
              "      <td>1099.169125</td>\n",
              "    </tr>\n",
              "    <tr>\n",
              "      <th>1</th>\n",
              "      <td>2017-03-04</td>\n",
              "      <td>1141.813000</td>\n",
              "    </tr>\n",
              "    <tr>\n",
              "      <th>2</th>\n",
              "      <td>2017-04-04</td>\n",
              "      <td>NaN</td>\n",
              "    </tr>\n",
              "    <tr>\n",
              "      <th>3</th>\n",
              "      <td>2017-05-04</td>\n",
              "      <td>1133.079314</td>\n",
              "    </tr>\n",
              "    <tr>\n",
              "      <th>4</th>\n",
              "      <td>2017-06-04</td>\n",
              "      <td>NaN</td>\n",
              "    </tr>\n",
              "  </tbody>\n",
              "</table>\n",
              "</div>"
            ],
            "text/plain": [
              "   Timestamp        Price\n",
              "0 2017-02-04  1099.169125\n",
              "1 2017-03-04  1141.813000\n",
              "2 2017-04-04          NaN\n",
              "3 2017-05-04  1133.079314\n",
              "4 2017-06-04          NaN"
            ]
          },
          "execution_count": 20,
          "metadata": {},
          "output_type": "execute_result"
        }
      ],
      "source": [
        "df.head()"
      ]
    },
    {
      "cell_type": "code",
      "execution_count": null,
      "metadata": {
        "id": "SDMtaJGRQ8lq",
        "outputId": "c0da6c49-96cc-4c6d-96fb-31d7c2f16718"
      },
      "outputs": [
        {
          "data": {
            "text/plain": [
              "Timestamp    datetime64[ns]\n",
              "Price               float64\n",
              "dtype: object"
            ]
          },
          "execution_count": 21,
          "metadata": {},
          "output_type": "execute_result"
        }
      ],
      "source": [
        "df.dtypes"
      ]
    },
    {
      "cell_type": "markdown",
      "metadata": {
        "id": "aQdAvngbQ8lq"
      },
      "source": [
        "![green-divider](https://user-images.githubusercontent.com/7065401/52071924-c003ad80-2562-11e9-8297-1c6595f8a7ff.png)\n",
        "\n",
        "## Adding index to our data using `index_col` parameter\n",
        "\n",
        "By default, pandas will automatically assign a numeric autoincremental index or row label starting with zero. You may want to leave the default index as such if your data doesn’t have a column with unique values that can serve as a better index. In case there is a column that you feel would serve as a better index, you can override the default behavior by setting `index_col` property to a column. It takes a numeric value representing the index or a string of the column name for setting a single column as index or a list of numeric values or strings for creating a multi-index.\n",
        "\n",
        "In our data, we are choosing the first column, `Timestamp`, as index (index=0) by passing zero to the `index_col` argument."
      ]
    },
    {
      "cell_type": "code",
      "execution_count": null,
      "metadata": {
        "id": "yFVX3_jEQ8lq"
      },
      "outputs": [],
      "source": [
        "df = pd.read_csv('btc-market-price.csv',\n",
        "                 header=None,\n",
        "                 na_values=['', '?', '-'],\n",
        "                 names=['Timestamp', 'Price'],\n",
        "                 dtype={'Price': 'float'},\n",
        "                 parse_dates=[0],\n",
        "                 index_col=[0])"
      ]
    },
    {
      "cell_type": "code",
      "execution_count": null,
      "metadata": {
        "id": "dONub7uIQ8lt",
        "outputId": "b6c68f7a-c67b-46ee-8de0-7f9f9f4d6c62"
      },
      "outputs": [
        {
          "data": {
            "text/html": [
              "<div>\n",
              "<style scoped>\n",
              "    .dataframe tbody tr th:only-of-type {\n",
              "        vertical-align: middle;\n",
              "    }\n",
              "\n",
              "    .dataframe tbody tr th {\n",
              "        vertical-align: top;\n",
              "    }\n",
              "\n",
              "    .dataframe thead th {\n",
              "        text-align: right;\n",
              "    }\n",
              "</style>\n",
              "<table border=\"1\" class=\"dataframe\">\n",
              "  <thead>\n",
              "    <tr style=\"text-align: right;\">\n",
              "      <th></th>\n",
              "      <th>Price</th>\n",
              "    </tr>\n",
              "    <tr>\n",
              "      <th>Timestamp</th>\n",
              "      <th></th>\n",
              "    </tr>\n",
              "  </thead>\n",
              "  <tbody>\n",
              "    <tr>\n",
              "      <th>2017-02-04</th>\n",
              "      <td>1099.169125</td>\n",
              "    </tr>\n",
              "    <tr>\n",
              "      <th>2017-03-04</th>\n",
              "      <td>1141.813000</td>\n",
              "    </tr>\n",
              "    <tr>\n",
              "      <th>2017-04-04</th>\n",
              "      <td>NaN</td>\n",
              "    </tr>\n",
              "    <tr>\n",
              "      <th>2017-05-04</th>\n",
              "      <td>1133.079314</td>\n",
              "    </tr>\n",
              "    <tr>\n",
              "      <th>2017-06-04</th>\n",
              "      <td>NaN</td>\n",
              "    </tr>\n",
              "  </tbody>\n",
              "</table>\n",
              "</div>"
            ],
            "text/plain": [
              "                  Price\n",
              "Timestamp              \n",
              "2017-02-04  1099.169125\n",
              "2017-03-04  1141.813000\n",
              "2017-04-04          NaN\n",
              "2017-05-04  1133.079314\n",
              "2017-06-04          NaN"
            ]
          },
          "execution_count": 5,
          "metadata": {},
          "output_type": "execute_result"
        }
      ],
      "source": [
        "df.head()"
      ]
    },
    {
      "cell_type": "code",
      "execution_count": null,
      "metadata": {
        "id": "8WFqfZe4Q8lu",
        "outputId": "c371f888-46cd-4a45-8251-9a3d36ec1b40"
      },
      "outputs": [
        {
          "data": {
            "text/plain": [
              "Price    float64\n",
              "dtype: object"
            ]
          },
          "execution_count": 24,
          "metadata": {},
          "output_type": "execute_result"
        }
      ],
      "source": [
        "df.dtypes"
      ]
    },
    {
      "cell_type": "markdown",
      "metadata": {
        "id": "NC1gA0kwQ8lu"
      },
      "source": [
        "![green-divider](https://user-images.githubusercontent.com/7065401/52071924-c003ad80-2562-11e9-8297-1c6595f8a7ff.png)\n",
        "\n",
        "## A more challenging parsing\n",
        "\n",
        "Now we'll read another CSV file. This file has the following columns:\n",
        "\n",
        "- `first_name`\n",
        "- `last_name`\n",
        "- `age`\n",
        "- `math_score`\n",
        "- `french_score`\n",
        "- `next_test_date`\n",
        "\n",
        "Let's read it and see how it looks like."
      ]
    },
    {
      "cell_type": "code",
      "execution_count": null,
      "metadata": {
        "id": "TRBFpPoLQ8lu"
      },
      "outputs": [],
      "source": [
        "exam_df = pd.read_csv('exam_review.csv')"
      ]
    },
    {
      "cell_type": "code",
      "execution_count": null,
      "metadata": {
        "scrolled": true,
        "id": "06qcYBT7Q8lu",
        "outputId": "023d91d0-27d5-463d-bc83-cda31810f8bf"
      },
      "outputs": [
        {
          "data": {
            "text/html": [
              "<div>\n",
              "<style scoped>\n",
              "    .dataframe tbody tr th:only-of-type {\n",
              "        vertical-align: middle;\n",
              "    }\n",
              "\n",
              "    .dataframe tbody tr th {\n",
              "        vertical-align: top;\n",
              "    }\n",
              "\n",
              "    .dataframe thead th {\n",
              "        text-align: right;\n",
              "    }\n",
              "</style>\n",
              "<table border=\"1\" class=\"dataframe\">\n",
              "  <thead>\n",
              "    <tr style=\"text-align: right;\">\n",
              "      <th></th>\n",
              "      <th></th>\n",
              "      <th>first_name&gt;last_name&gt;age&gt;math_score&gt;french_score</th>\n",
              "    </tr>\n",
              "  </thead>\n",
              "  <tbody>\n",
              "    <tr>\n",
              "      <th>Ray&gt;Morley&gt;18&gt;\"68</th>\n",
              "      <th>000\"&gt;\"75</th>\n",
              "      <td>000\"</td>\n",
              "    </tr>\n",
              "    <tr>\n",
              "      <th>Melvin&gt;Scott&gt;24&gt;77&gt;83</th>\n",
              "      <th>NaN</th>\n",
              "      <td>NaN</td>\n",
              "    </tr>\n",
              "    <tr>\n",
              "      <th>Amirah&gt;Haley&gt;22&gt;92&gt;67</th>\n",
              "      <th>NaN</th>\n",
              "      <td>NaN</td>\n",
              "    </tr>\n",
              "    <tr>\n",
              "      <th>Gerard&gt;Mills&gt;19&gt;\"78</th>\n",
              "      <th>000\"&gt;72</th>\n",
              "      <td>NaN</td>\n",
              "    </tr>\n",
              "    <tr>\n",
              "      <th>Amy&gt;Grimes&gt;23&gt;91&gt;81</th>\n",
              "      <th>NaN</th>\n",
              "      <td>NaN</td>\n",
              "    </tr>\n",
              "  </tbody>\n",
              "</table>\n",
              "</div>"
            ],
            "text/plain": [
              "                               first_name>last_name>age>math_score>french_score\n",
              "Ray>Morley>18>\"68     000\">\"75                                             000\"\n",
              "Melvin>Scott>24>77>83 NaN                                                   NaN\n",
              "Amirah>Haley>22>92>67 NaN                                                   NaN\n",
              "Gerard>Mills>19>\"78   000\">72                                               NaN\n",
              "Amy>Grimes>23>91>81   NaN                                                   NaN"
            ]
          },
          "execution_count": 7,
          "metadata": {},
          "output_type": "execute_result"
        }
      ],
      "source": [
        "exam_df"
      ]
    },
    {
      "cell_type": "markdown",
      "metadata": {
        "id": "SoPhQH1_Q8lu"
      },
      "source": [
        "![green-divider](https://user-images.githubusercontent.com/7065401/52071924-c003ad80-2562-11e9-8297-1c6595f8a7ff.png)\n",
        "\n",
        "## Custom data delimiters using `sep` parameter\n",
        "\n",
        "We can define which delimiter to use by using the `sep` parameter. If we don't use the `sep` parameter, pandas will automatically detect the separator.\n",
        "\n",
        "In most of the CSV files separator will be comma (`,`) and will be automatically detected. But we can find files with other separators like semicolon (`;`), tabs (`\\t`, specially on TSV files), whitespaces or any other special character.\n",
        "\n",
        "In this case the separator is a `>` character."
      ]
    },
    {
      "cell_type": "code",
      "execution_count": null,
      "metadata": {
        "id": "UBPqUJL0Q8lu"
      },
      "outputs": [],
      "source": [
        "exam_df = pd.read_csv('exam_review.csv',\n",
        "                      sep='>')"
      ]
    },
    {
      "cell_type": "code",
      "execution_count": null,
      "metadata": {
        "scrolled": true,
        "id": "-Jpjdu_uQ8lu",
        "outputId": "92c4afe6-81f8-481b-93fb-2fe24709ae71"
      },
      "outputs": [
        {
          "data": {
            "text/html": [
              "<div>\n",
              "<style scoped>\n",
              "    .dataframe tbody tr th:only-of-type {\n",
              "        vertical-align: middle;\n",
              "    }\n",
              "\n",
              "    .dataframe tbody tr th {\n",
              "        vertical-align: top;\n",
              "    }\n",
              "\n",
              "    .dataframe thead th {\n",
              "        text-align: right;\n",
              "    }\n",
              "</style>\n",
              "<table border=\"1\" class=\"dataframe\">\n",
              "  <thead>\n",
              "    <tr style=\"text-align: right;\">\n",
              "      <th></th>\n",
              "      <th>first_name</th>\n",
              "      <th>last_name</th>\n",
              "      <th>age</th>\n",
              "      <th>math_score</th>\n",
              "      <th>french_score</th>\n",
              "    </tr>\n",
              "  </thead>\n",
              "  <tbody>\n",
              "    <tr>\n",
              "      <th>0</th>\n",
              "      <td>Ray</td>\n",
              "      <td>Morley</td>\n",
              "      <td>18</td>\n",
              "      <td>68,000</td>\n",
              "      <td>75,000</td>\n",
              "    </tr>\n",
              "    <tr>\n",
              "      <th>1</th>\n",
              "      <td>Melvin</td>\n",
              "      <td>Scott</td>\n",
              "      <td>24</td>\n",
              "      <td>77</td>\n",
              "      <td>83</td>\n",
              "    </tr>\n",
              "    <tr>\n",
              "      <th>2</th>\n",
              "      <td>Amirah</td>\n",
              "      <td>Haley</td>\n",
              "      <td>22</td>\n",
              "      <td>92</td>\n",
              "      <td>67</td>\n",
              "    </tr>\n",
              "    <tr>\n",
              "      <th>3</th>\n",
              "      <td>Gerard</td>\n",
              "      <td>Mills</td>\n",
              "      <td>19</td>\n",
              "      <td>78,000</td>\n",
              "      <td>72</td>\n",
              "    </tr>\n",
              "    <tr>\n",
              "      <th>4</th>\n",
              "      <td>Amy</td>\n",
              "      <td>Grimes</td>\n",
              "      <td>23</td>\n",
              "      <td>91</td>\n",
              "      <td>81</td>\n",
              "    </tr>\n",
              "  </tbody>\n",
              "</table>\n",
              "</div>"
            ],
            "text/plain": [
              "  first_name last_name  age math_score french_score\n",
              "0        Ray    Morley   18     68,000       75,000\n",
              "1     Melvin     Scott   24         77           83\n",
              "2     Amirah     Haley   22         92           67\n",
              "3     Gerard     Mills   19     78,000           72\n",
              "4        Amy    Grimes   23         91           81"
            ]
          },
          "execution_count": 9,
          "metadata": {},
          "output_type": "execute_result"
        }
      ],
      "source": [
        "exam_df"
      ]
    },
    {
      "cell_type": "markdown",
      "metadata": {
        "id": "74HdppkfQ8lu"
      },
      "source": [
        "![green-divider](https://user-images.githubusercontent.com/7065401/52071924-c003ad80-2562-11e9-8297-1c6595f8a7ff.png)\n",
        "\n",
        "## Custom data encoding\n",
        "\n",
        "Files are stored using different \"encodings\". You've probably heard about ASCII, UTF-8, latin1, etc.\n",
        "\n",
        "While reading data custom encoding can be defined with the `encoding` parameter.\n",
        "\n",
        "- `encoding='UTF-8'`: will be used if data is UTF-8 encoded.\n",
        "- `encoding='iso-8859-1'`: will be used if data is ISO/IEC 8859-1 (\"extended ASCII\") encoded.\n",
        "\n",
        "In our case we don't need a custom enconding as data is properly loaded."
      ]
    },
    {
      "cell_type": "markdown",
      "metadata": {
        "id": "LYOx35amQ8lu"
      },
      "source": [
        "![green-divider](https://user-images.githubusercontent.com/7065401/52071924-c003ad80-2562-11e9-8297-1c6595f8a7ff.png)\n",
        "\n",
        "## Custom numeric `decimal` and `thousands` character  \n",
        "\n",
        "The decimal and thousands characters could change between datasets. If we have a column containing a comma (`,`) to indicate the decimal or thousands place, then this column would be considered a string and not numeric."
      ]
    },
    {
      "cell_type": "code",
      "execution_count": null,
      "metadata": {
        "id": "aSw9nrtSQ8lu"
      },
      "outputs": [],
      "source": [
        "exam_df = pd.read_csv('exam_review.csv',\n",
        "                      sep='>')"
      ]
    },
    {
      "cell_type": "code",
      "execution_count": null,
      "metadata": {
        "id": "41hlHhzPQ8lu",
        "outputId": "85ac2fa7-cb67-4a4a-c980-c22dd69a9851"
      },
      "outputs": [
        {
          "data": {
            "text/html": [
              "<div>\n",
              "<style scoped>\n",
              "    .dataframe tbody tr th:only-of-type {\n",
              "        vertical-align: middle;\n",
              "    }\n",
              "\n",
              "    .dataframe tbody tr th {\n",
              "        vertical-align: top;\n",
              "    }\n",
              "\n",
              "    .dataframe thead th {\n",
              "        text-align: right;\n",
              "    }\n",
              "</style>\n",
              "<table border=\"1\" class=\"dataframe\">\n",
              "  <thead>\n",
              "    <tr style=\"text-align: right;\">\n",
              "      <th></th>\n",
              "      <th>first_name</th>\n",
              "      <th>last_name</th>\n",
              "      <th>age</th>\n",
              "      <th>math_score</th>\n",
              "      <th>french_score</th>\n",
              "    </tr>\n",
              "  </thead>\n",
              "  <tbody>\n",
              "    <tr>\n",
              "      <th>0</th>\n",
              "      <td>Ray</td>\n",
              "      <td>Morley</td>\n",
              "      <td>18</td>\n",
              "      <td>68,000</td>\n",
              "      <td>75,000</td>\n",
              "    </tr>\n",
              "    <tr>\n",
              "      <th>1</th>\n",
              "      <td>Melvin</td>\n",
              "      <td>Scott</td>\n",
              "      <td>24</td>\n",
              "      <td>77</td>\n",
              "      <td>83</td>\n",
              "    </tr>\n",
              "    <tr>\n",
              "      <th>2</th>\n",
              "      <td>Amirah</td>\n",
              "      <td>Haley</td>\n",
              "      <td>22</td>\n",
              "      <td>92</td>\n",
              "      <td>67</td>\n",
              "    </tr>\n",
              "    <tr>\n",
              "      <th>3</th>\n",
              "      <td>Gerard</td>\n",
              "      <td>Mills</td>\n",
              "      <td>19</td>\n",
              "      <td>78,000</td>\n",
              "      <td>72</td>\n",
              "    </tr>\n",
              "    <tr>\n",
              "      <th>4</th>\n",
              "      <td>Amy</td>\n",
              "      <td>Grimes</td>\n",
              "      <td>23</td>\n",
              "      <td>91</td>\n",
              "      <td>81</td>\n",
              "    </tr>\n",
              "  </tbody>\n",
              "</table>\n",
              "</div>"
            ],
            "text/plain": [
              "  first_name last_name  age math_score french_score\n",
              "0        Ray    Morley   18     68,000       75,000\n",
              "1     Melvin     Scott   24         77           83\n",
              "2     Amirah     Haley   22         92           67\n",
              "3     Gerard     Mills   19     78,000           72\n",
              "4        Amy    Grimes   23         91           81"
            ]
          },
          "execution_count": 13,
          "metadata": {},
          "output_type": "execute_result"
        }
      ],
      "source": [
        "exam_df"
      ]
    },
    {
      "cell_type": "code",
      "execution_count": null,
      "metadata": {
        "id": "ichDyWVgQ8lv",
        "outputId": "02c7dda6-a5a3-47ad-95ab-f992f0e6a5b3"
      },
      "outputs": [
        {
          "data": {
            "text/plain": [
              "math_score      object\n",
              "french_score    object\n",
              "dtype: object"
            ]
          },
          "execution_count": 14,
          "metadata": {},
          "output_type": "execute_result"
        }
      ],
      "source": [
        "exam_df[['math_score', 'french_score']].dtypes"
      ]
    },
    {
      "cell_type": "markdown",
      "metadata": {
        "id": "j6eULlWRQ8lv"
      },
      "source": [
        "To solve that, ensuring such columns are interpreted as integer values, we'll need to use the `decimal` and/or `thousands` parameters to indicate correct decimal and/or thousands indicators."
      ]
    },
    {
      "cell_type": "code",
      "execution_count": null,
      "metadata": {
        "id": "WQvZ35hxQ8lv"
      },
      "outputs": [],
      "source": [
        "exam_df = pd.read_csv('exam_review.csv',\n",
        "                      sep='>',\n",
        "                      decimal=',')"
      ]
    },
    {
      "cell_type": "code",
      "execution_count": null,
      "metadata": {
        "id": "xM_6kKVnQ8lv",
        "outputId": "caedc82b-94d7-4bac-9af9-3b96cf7307c6"
      },
      "outputs": [
        {
          "data": {
            "text/html": [
              "<div>\n",
              "<style scoped>\n",
              "    .dataframe tbody tr th:only-of-type {\n",
              "        vertical-align: middle;\n",
              "    }\n",
              "\n",
              "    .dataframe tbody tr th {\n",
              "        vertical-align: top;\n",
              "    }\n",
              "\n",
              "    .dataframe thead th {\n",
              "        text-align: right;\n",
              "    }\n",
              "</style>\n",
              "<table border=\"1\" class=\"dataframe\">\n",
              "  <thead>\n",
              "    <tr style=\"text-align: right;\">\n",
              "      <th></th>\n",
              "      <th>first_name</th>\n",
              "      <th>last_name</th>\n",
              "      <th>age</th>\n",
              "      <th>math_score</th>\n",
              "      <th>french_score</th>\n",
              "    </tr>\n",
              "  </thead>\n",
              "  <tbody>\n",
              "    <tr>\n",
              "      <th>0</th>\n",
              "      <td>Ray</td>\n",
              "      <td>Morley</td>\n",
              "      <td>18</td>\n",
              "      <td>68.0</td>\n",
              "      <td>75.0</td>\n",
              "    </tr>\n",
              "    <tr>\n",
              "      <th>1</th>\n",
              "      <td>Melvin</td>\n",
              "      <td>Scott</td>\n",
              "      <td>24</td>\n",
              "      <td>77.0</td>\n",
              "      <td>83.0</td>\n",
              "    </tr>\n",
              "    <tr>\n",
              "      <th>2</th>\n",
              "      <td>Amirah</td>\n",
              "      <td>Haley</td>\n",
              "      <td>22</td>\n",
              "      <td>92.0</td>\n",
              "      <td>67.0</td>\n",
              "    </tr>\n",
              "    <tr>\n",
              "      <th>3</th>\n",
              "      <td>Gerard</td>\n",
              "      <td>Mills</td>\n",
              "      <td>19</td>\n",
              "      <td>78.0</td>\n",
              "      <td>72.0</td>\n",
              "    </tr>\n",
              "    <tr>\n",
              "      <th>4</th>\n",
              "      <td>Amy</td>\n",
              "      <td>Grimes</td>\n",
              "      <td>23</td>\n",
              "      <td>91.0</td>\n",
              "      <td>81.0</td>\n",
              "    </tr>\n",
              "  </tbody>\n",
              "</table>\n",
              "</div>"
            ],
            "text/plain": [
              "  first_name last_name  age  math_score  french_score\n",
              "0        Ray    Morley   18        68.0          75.0\n",
              "1     Melvin     Scott   24        77.0          83.0\n",
              "2     Amirah     Haley   22        92.0          67.0\n",
              "3     Gerard     Mills   19        78.0          72.0\n",
              "4        Amy    Grimes   23        91.0          81.0"
            ]
          },
          "execution_count": 16,
          "metadata": {},
          "output_type": "execute_result"
        }
      ],
      "source": [
        "exam_df"
      ]
    },
    {
      "cell_type": "code",
      "execution_count": null,
      "metadata": {
        "id": "MzoSWaleQ8lv",
        "outputId": "a32ac0d8-e3da-4ae7-d342-d31b335f87b4"
      },
      "outputs": [
        {
          "data": {
            "text/plain": [
              "math_score      float64\n",
              "french_score    float64\n",
              "dtype: object"
            ]
          },
          "execution_count": 34,
          "metadata": {},
          "output_type": "execute_result"
        }
      ],
      "source": [
        "exam_df[['math_score', 'french_score']].dtypes"
      ]
    },
    {
      "cell_type": "markdown",
      "metadata": {
        "id": "JZ2ASq8QQ8lv"
      },
      "source": [
        "Let's see what happens with the `thousands` parameter:"
      ]
    },
    {
      "cell_type": "code",
      "execution_count": null,
      "metadata": {
        "id": "YaePdboFQ8lv",
        "outputId": "146f2260-0cd5-49fa-e6d9-ac9ef05ff7a2"
      },
      "outputs": [
        {
          "data": {
            "text/html": [
              "<div>\n",
              "<style scoped>\n",
              "    .dataframe tbody tr th:only-of-type {\n",
              "        vertical-align: middle;\n",
              "    }\n",
              "\n",
              "    .dataframe tbody tr th {\n",
              "        vertical-align: top;\n",
              "    }\n",
              "\n",
              "    .dataframe thead th {\n",
              "        text-align: right;\n",
              "    }\n",
              "</style>\n",
              "<table border=\"1\" class=\"dataframe\">\n",
              "  <thead>\n",
              "    <tr style=\"text-align: right;\">\n",
              "      <th></th>\n",
              "      <th>first_name</th>\n",
              "      <th>last_name</th>\n",
              "      <th>age</th>\n",
              "      <th>math_score</th>\n",
              "      <th>french_score</th>\n",
              "    </tr>\n",
              "  </thead>\n",
              "  <tbody>\n",
              "    <tr>\n",
              "      <th>0</th>\n",
              "      <td>Ray</td>\n",
              "      <td>Morley</td>\n",
              "      <td>18</td>\n",
              "      <td>68000</td>\n",
              "      <td>75000</td>\n",
              "    </tr>\n",
              "    <tr>\n",
              "      <th>1</th>\n",
              "      <td>Melvin</td>\n",
              "      <td>Scott</td>\n",
              "      <td>24</td>\n",
              "      <td>77</td>\n",
              "      <td>83</td>\n",
              "    </tr>\n",
              "    <tr>\n",
              "      <th>2</th>\n",
              "      <td>Amirah</td>\n",
              "      <td>Haley</td>\n",
              "      <td>22</td>\n",
              "      <td>92</td>\n",
              "      <td>67</td>\n",
              "    </tr>\n",
              "    <tr>\n",
              "      <th>3</th>\n",
              "      <td>Gerard</td>\n",
              "      <td>Mills</td>\n",
              "      <td>19</td>\n",
              "      <td>78000</td>\n",
              "      <td>72</td>\n",
              "    </tr>\n",
              "    <tr>\n",
              "      <th>4</th>\n",
              "      <td>Amy</td>\n",
              "      <td>Grimes</td>\n",
              "      <td>23</td>\n",
              "      <td>91</td>\n",
              "      <td>81</td>\n",
              "    </tr>\n",
              "  </tbody>\n",
              "</table>\n",
              "</div>"
            ],
            "text/plain": [
              "  first_name last_name  age  math_score  french_score\n",
              "0        Ray    Morley   18       68000         75000\n",
              "1     Melvin     Scott   24          77            83\n",
              "2     Amirah     Haley   22          92            67\n",
              "3     Gerard     Mills   19       78000            72\n",
              "4        Amy    Grimes   23          91            81"
            ]
          },
          "execution_count": 35,
          "metadata": {},
          "output_type": "execute_result"
        }
      ],
      "source": [
        "pd.read_csv('exam_review.csv',\n",
        "            sep='>',\n",
        "            thousands=',')"
      ]
    },
    {
      "cell_type": "markdown",
      "metadata": {
        "id": "UEXdJTOcQ8lv"
      },
      "source": [
        "![green-divider](https://user-images.githubusercontent.com/7065401/52071924-c003ad80-2562-11e9-8297-1c6595f8a7ff.png)\n",
        "\n",
        "## Excluding specific rows\n",
        "\n",
        "We can use the `skiprows` to:\n",
        "\n",
        "- Exclude reading specified number of rows from the beginning of a file, by passing an integer argument. **This removes the header too**.\n",
        "- Skip reading specific row indices from a file, by passing a list containing row indices to skip."
      ]
    },
    {
      "cell_type": "code",
      "execution_count": null,
      "metadata": {
        "id": "_CfybegVQ8lv"
      },
      "outputs": [],
      "source": [
        "exam_df = pd.read_csv('exam_review.csv',\n",
        "                      sep='>',\n",
        "                      decimal=',')"
      ]
    },
    {
      "cell_type": "code",
      "execution_count": null,
      "metadata": {
        "id": "GF0duyReQ8lv",
        "outputId": "a42b67bb-a614-477f-8620-5a51561f129f"
      },
      "outputs": [
        {
          "data": {
            "text/html": [
              "<div>\n",
              "<style scoped>\n",
              "    .dataframe tbody tr th:only-of-type {\n",
              "        vertical-align: middle;\n",
              "    }\n",
              "\n",
              "    .dataframe tbody tr th {\n",
              "        vertical-align: top;\n",
              "    }\n",
              "\n",
              "    .dataframe thead th {\n",
              "        text-align: right;\n",
              "    }\n",
              "</style>\n",
              "<table border=\"1\" class=\"dataframe\">\n",
              "  <thead>\n",
              "    <tr style=\"text-align: right;\">\n",
              "      <th></th>\n",
              "      <th>first_name</th>\n",
              "      <th>last_name</th>\n",
              "      <th>age</th>\n",
              "      <th>math_score</th>\n",
              "      <th>french_score</th>\n",
              "    </tr>\n",
              "  </thead>\n",
              "  <tbody>\n",
              "    <tr>\n",
              "      <th>0</th>\n",
              "      <td>Ray</td>\n",
              "      <td>Morley</td>\n",
              "      <td>18</td>\n",
              "      <td>68.0</td>\n",
              "      <td>75.0</td>\n",
              "    </tr>\n",
              "    <tr>\n",
              "      <th>1</th>\n",
              "      <td>Melvin</td>\n",
              "      <td>Scott</td>\n",
              "      <td>24</td>\n",
              "      <td>77.0</td>\n",
              "      <td>83.0</td>\n",
              "    </tr>\n",
              "    <tr>\n",
              "      <th>2</th>\n",
              "      <td>Amirah</td>\n",
              "      <td>Haley</td>\n",
              "      <td>22</td>\n",
              "      <td>92.0</td>\n",
              "      <td>67.0</td>\n",
              "    </tr>\n",
              "    <tr>\n",
              "      <th>3</th>\n",
              "      <td>Gerard</td>\n",
              "      <td>Mills</td>\n",
              "      <td>19</td>\n",
              "      <td>78.0</td>\n",
              "      <td>72.0</td>\n",
              "    </tr>\n",
              "    <tr>\n",
              "      <th>4</th>\n",
              "      <td>Amy</td>\n",
              "      <td>Grimes</td>\n",
              "      <td>23</td>\n",
              "      <td>91.0</td>\n",
              "      <td>81.0</td>\n",
              "    </tr>\n",
              "  </tbody>\n",
              "</table>\n",
              "</div>"
            ],
            "text/plain": [
              "  first_name last_name  age  math_score  french_score\n",
              "0        Ray    Morley   18        68.0          75.0\n",
              "1     Melvin     Scott   24        77.0          83.0\n",
              "2     Amirah     Haley   22        92.0          67.0\n",
              "3     Gerard     Mills   19        78.0          72.0\n",
              "4        Amy    Grimes   23        91.0          81.0"
            ]
          },
          "execution_count": 18,
          "metadata": {},
          "output_type": "execute_result"
        }
      ],
      "source": [
        "exam_df"
      ]
    },
    {
      "cell_type": "markdown",
      "metadata": {
        "id": "PYQrin0SQ8lv"
      },
      "source": [
        "To skip reading the first 2 rows from this file, we can use `skiprows=2`:"
      ]
    },
    {
      "cell_type": "code",
      "execution_count": null,
      "metadata": {
        "id": "v_JiAPCSQ8lv",
        "outputId": "5b2cb135-9e64-4fd6-8054-e79e7ba5022e"
      },
      "outputs": [
        {
          "data": {
            "text/html": [
              "<div>\n",
              "<style scoped>\n",
              "    .dataframe tbody tr th:only-of-type {\n",
              "        vertical-align: middle;\n",
              "    }\n",
              "\n",
              "    .dataframe tbody tr th {\n",
              "        vertical-align: top;\n",
              "    }\n",
              "\n",
              "    .dataframe thead th {\n",
              "        text-align: right;\n",
              "    }\n",
              "</style>\n",
              "<table border=\"1\" class=\"dataframe\">\n",
              "  <thead>\n",
              "    <tr style=\"text-align: right;\">\n",
              "      <th></th>\n",
              "      <th>Melvin</th>\n",
              "      <th>Scott</th>\n",
              "      <th>24</th>\n",
              "      <th>77</th>\n",
              "      <th>83</th>\n",
              "    </tr>\n",
              "  </thead>\n",
              "  <tbody>\n",
              "    <tr>\n",
              "      <th>0</th>\n",
              "      <td>Amirah</td>\n",
              "      <td>Haley</td>\n",
              "      <td>22</td>\n",
              "      <td>92</td>\n",
              "      <td>67</td>\n",
              "    </tr>\n",
              "    <tr>\n",
              "      <th>1</th>\n",
              "      <td>Gerard</td>\n",
              "      <td>Mills</td>\n",
              "      <td>19</td>\n",
              "      <td>78,000</td>\n",
              "      <td>72</td>\n",
              "    </tr>\n",
              "    <tr>\n",
              "      <th>2</th>\n",
              "      <td>Amy</td>\n",
              "      <td>Grimes</td>\n",
              "      <td>23</td>\n",
              "      <td>91</td>\n",
              "      <td>81</td>\n",
              "    </tr>\n",
              "  </tbody>\n",
              "</table>\n",
              "</div>"
            ],
            "text/plain": [
              "   Melvin   Scott  24      77  83\n",
              "0  Amirah   Haley  22      92  67\n",
              "1  Gerard   Mills  19  78,000  72\n",
              "2     Amy  Grimes  23      91  81"
            ]
          },
          "execution_count": 19,
          "metadata": {},
          "output_type": "execute_result"
        }
      ],
      "source": [
        "pd.read_csv('exam_review.csv',\n",
        "            sep='>',\n",
        "            skiprows=2)"
      ]
    },
    {
      "cell_type": "markdown",
      "metadata": {
        "id": "sqrTl8yCQ8lw"
      },
      "source": [
        "As the header is considered as the first row, to skip reading data rows 1 and 3, we can use `skiprows=[1,3]`:"
      ]
    },
    {
      "cell_type": "code",
      "execution_count": null,
      "metadata": {
        "id": "b-ne-WiHQ8lw"
      },
      "outputs": [],
      "source": [
        "exam_df = pd.read_csv('exam_review.csv',\n",
        "                      sep='>',\n",
        "                      decimal=',',\n",
        "                      skiprows=[1,3])"
      ]
    },
    {
      "cell_type": "code",
      "execution_count": null,
      "metadata": {
        "id": "ToXnmsIQQ8lw",
        "outputId": "66f8890c-0b39-4c3e-d368-68cc605933dc"
      },
      "outputs": [
        {
          "data": {
            "text/html": [
              "<div>\n",
              "<style scoped>\n",
              "    .dataframe tbody tr th:only-of-type {\n",
              "        vertical-align: middle;\n",
              "    }\n",
              "\n",
              "    .dataframe tbody tr th {\n",
              "        vertical-align: top;\n",
              "    }\n",
              "\n",
              "    .dataframe thead th {\n",
              "        text-align: right;\n",
              "    }\n",
              "</style>\n",
              "<table border=\"1\" class=\"dataframe\">\n",
              "  <thead>\n",
              "    <tr style=\"text-align: right;\">\n",
              "      <th></th>\n",
              "      <th>first_name</th>\n",
              "      <th>last_name</th>\n",
              "      <th>age</th>\n",
              "      <th>math_score</th>\n",
              "      <th>french_score</th>\n",
              "    </tr>\n",
              "  </thead>\n",
              "  <tbody>\n",
              "    <tr>\n",
              "      <th>0</th>\n",
              "      <td>Melvin</td>\n",
              "      <td>Scott</td>\n",
              "      <td>24</td>\n",
              "      <td>77.0</td>\n",
              "      <td>83</td>\n",
              "    </tr>\n",
              "    <tr>\n",
              "      <th>1</th>\n",
              "      <td>Gerard</td>\n",
              "      <td>Mills</td>\n",
              "      <td>19</td>\n",
              "      <td>78.0</td>\n",
              "      <td>72</td>\n",
              "    </tr>\n",
              "    <tr>\n",
              "      <th>2</th>\n",
              "      <td>Amy</td>\n",
              "      <td>Grimes</td>\n",
              "      <td>23</td>\n",
              "      <td>91.0</td>\n",
              "      <td>81</td>\n",
              "    </tr>\n",
              "  </tbody>\n",
              "</table>\n",
              "</div>"
            ],
            "text/plain": [
              "  first_name last_name  age  math_score  french_score\n",
              "0     Melvin     Scott   24        77.0            83\n",
              "1     Gerard     Mills   19        78.0            72\n",
              "2        Amy    Grimes   23        91.0            81"
            ]
          },
          "execution_count": 21,
          "metadata": {},
          "output_type": "execute_result"
        }
      ],
      "source": [
        "exam_df"
      ]
    },
    {
      "cell_type": "markdown",
      "metadata": {
        "id": "qMKZHAyHQ8lw"
      },
      "source": [
        "![green-divider](https://user-images.githubusercontent.com/7065401/52071924-c003ad80-2562-11e9-8297-1c6595f8a7ff.png)\n",
        "\n",
        "## Get rid of blank lines\n",
        "\n",
        "The `skip_blank_lines` parameter is set to `True` so blank lines are skipped while we read files.\n",
        "\n",
        "If we set this parameter to `False`, then every blank line will be loaded with `NaN` values into the `DataFrame`."
      ]
    },
    {
      "cell_type": "code",
      "execution_count": null,
      "metadata": {
        "id": "dzkCo-qSQ8lw",
        "outputId": "6d15a4e2-1083-49e5-8251-e8773064152d"
      },
      "outputs": [
        {
          "data": {
            "text/html": [
              "<div>\n",
              "<style scoped>\n",
              "    .dataframe tbody tr th:only-of-type {\n",
              "        vertical-align: middle;\n",
              "    }\n",
              "\n",
              "    .dataframe tbody tr th {\n",
              "        vertical-align: top;\n",
              "    }\n",
              "\n",
              "    .dataframe thead th {\n",
              "        text-align: right;\n",
              "    }\n",
              "</style>\n",
              "<table border=\"1\" class=\"dataframe\">\n",
              "  <thead>\n",
              "    <tr style=\"text-align: right;\">\n",
              "      <th></th>\n",
              "      <th>first_name</th>\n",
              "      <th>last_name</th>\n",
              "      <th>age</th>\n",
              "      <th>math_score</th>\n",
              "      <th>french_score</th>\n",
              "    </tr>\n",
              "  </thead>\n",
              "  <tbody>\n",
              "    <tr>\n",
              "      <th>0</th>\n",
              "      <td>Ray</td>\n",
              "      <td>Morley</td>\n",
              "      <td>18.0</td>\n",
              "      <td>68,000</td>\n",
              "      <td>75,000</td>\n",
              "    </tr>\n",
              "    <tr>\n",
              "      <th>1</th>\n",
              "      <td>Melvin</td>\n",
              "      <td>Scott</td>\n",
              "      <td>24.0</td>\n",
              "      <td>77</td>\n",
              "      <td>83</td>\n",
              "    </tr>\n",
              "    <tr>\n",
              "      <th>2</th>\n",
              "      <td>Amirah</td>\n",
              "      <td>Haley</td>\n",
              "      <td>22.0</td>\n",
              "      <td>92</td>\n",
              "      <td>67</td>\n",
              "    </tr>\n",
              "    <tr>\n",
              "      <th>3</th>\n",
              "      <td>NaN</td>\n",
              "      <td>NaN</td>\n",
              "      <td>NaN</td>\n",
              "      <td>NaN</td>\n",
              "      <td>NaN</td>\n",
              "    </tr>\n",
              "    <tr>\n",
              "      <th>4</th>\n",
              "      <td>Gerard</td>\n",
              "      <td>Mills</td>\n",
              "      <td>19.0</td>\n",
              "      <td>78,000</td>\n",
              "      <td>72</td>\n",
              "    </tr>\n",
              "    <tr>\n",
              "      <th>5</th>\n",
              "      <td>Amy</td>\n",
              "      <td>Grimes</td>\n",
              "      <td>23.0</td>\n",
              "      <td>91</td>\n",
              "      <td>81</td>\n",
              "    </tr>\n",
              "  </tbody>\n",
              "</table>\n",
              "</div>"
            ],
            "text/plain": [
              "  first_name last_name   age math_score french_score\n",
              "0        Ray    Morley  18.0     68,000       75,000\n",
              "1     Melvin     Scott  24.0         77           83\n",
              "2     Amirah     Haley  22.0         92           67\n",
              "3        NaN       NaN   NaN        NaN          NaN\n",
              "4     Gerard     Mills  19.0     78,000           72\n",
              "5        Amy    Grimes  23.0         91           81"
            ]
          },
          "execution_count": 22,
          "metadata": {},
          "output_type": "execute_result"
        }
      ],
      "source": [
        "pd.read_csv('exam_review.csv',\n",
        "            sep='>',\n",
        "            skip_blank_lines=False)"
      ]
    },
    {
      "cell_type": "markdown",
      "metadata": {
        "id": "zZBsfFFoQ8lw"
      },
      "source": [
        "![green-divider](https://user-images.githubusercontent.com/7065401/52071924-c003ad80-2562-11e9-8297-1c6595f8a7ff.png)\n",
        "\n",
        "## Loading specific columns\n",
        "\n",
        "We can use the `usecols` parameter when we want to load just specific columns and not all of them.\n",
        "\n",
        "Performance wise, it is better because instead of loading an entire dataframe into memory and then deleting the not required columns, we can select the columns that we’ll need, while loading the dataset itself.\n",
        "\n",
        "As a parameter to `usecols`, you can pass either a list of strings corresponding to the column names or a list of integers corresponding to column index."
      ]
    },
    {
      "cell_type": "code",
      "execution_count": null,
      "metadata": {
        "id": "aI2Wf1oNQ8lw",
        "outputId": "53adb46a-0119-4d53-f510-a0db94007fc3"
      },
      "outputs": [
        {
          "data": {
            "text/html": [
              "<div>\n",
              "<style scoped>\n",
              "    .dataframe tbody tr th:only-of-type {\n",
              "        vertical-align: middle;\n",
              "    }\n",
              "\n",
              "    .dataframe tbody tr th {\n",
              "        vertical-align: top;\n",
              "    }\n",
              "\n",
              "    .dataframe thead th {\n",
              "        text-align: right;\n",
              "    }\n",
              "</style>\n",
              "<table border=\"1\" class=\"dataframe\">\n",
              "  <thead>\n",
              "    <tr style=\"text-align: right;\">\n",
              "      <th></th>\n",
              "      <th>first_name</th>\n",
              "      <th>last_name</th>\n",
              "      <th>age</th>\n",
              "    </tr>\n",
              "  </thead>\n",
              "  <tbody>\n",
              "    <tr>\n",
              "      <th>0</th>\n",
              "      <td>Ray</td>\n",
              "      <td>Morley</td>\n",
              "      <td>18</td>\n",
              "    </tr>\n",
              "    <tr>\n",
              "      <th>1</th>\n",
              "      <td>Melvin</td>\n",
              "      <td>Scott</td>\n",
              "      <td>24</td>\n",
              "    </tr>\n",
              "    <tr>\n",
              "      <th>2</th>\n",
              "      <td>Amirah</td>\n",
              "      <td>Haley</td>\n",
              "      <td>22</td>\n",
              "    </tr>\n",
              "    <tr>\n",
              "      <th>3</th>\n",
              "      <td>Gerard</td>\n",
              "      <td>Mills</td>\n",
              "      <td>19</td>\n",
              "    </tr>\n",
              "    <tr>\n",
              "      <th>4</th>\n",
              "      <td>Amy</td>\n",
              "      <td>Grimes</td>\n",
              "      <td>23</td>\n",
              "    </tr>\n",
              "  </tbody>\n",
              "</table>\n",
              "</div>"
            ],
            "text/plain": [
              "  first_name last_name  age\n",
              "0        Ray    Morley   18\n",
              "1     Melvin     Scott   24\n",
              "2     Amirah     Haley   22\n",
              "3     Gerard     Mills   19\n",
              "4        Amy    Grimes   23"
            ]
          },
          "execution_count": 42,
          "metadata": {},
          "output_type": "execute_result"
        }
      ],
      "source": [
        "pd.read_csv('exam_review.csv',\n",
        "            usecols=['first_name', 'last_name', 'age'],\n",
        "            sep='>')"
      ]
    },
    {
      "cell_type": "markdown",
      "metadata": {
        "id": "x09ggcdxQ8lw"
      },
      "source": [
        "Or using just the column position:"
      ]
    },
    {
      "cell_type": "code",
      "execution_count": null,
      "metadata": {
        "id": "yNQw27ktQ8lw",
        "outputId": "3db6c2db-692a-490f-9c30-2dd0d7788369"
      },
      "outputs": [
        {
          "data": {
            "text/html": [
              "<div>\n",
              "<style scoped>\n",
              "    .dataframe tbody tr th:only-of-type {\n",
              "        vertical-align: middle;\n",
              "    }\n",
              "\n",
              "    .dataframe tbody tr th {\n",
              "        vertical-align: top;\n",
              "    }\n",
              "\n",
              "    .dataframe thead th {\n",
              "        text-align: right;\n",
              "    }\n",
              "</style>\n",
              "<table border=\"1\" class=\"dataframe\">\n",
              "  <thead>\n",
              "    <tr style=\"text-align: right;\">\n",
              "      <th></th>\n",
              "      <th>first_name</th>\n",
              "      <th>last_name</th>\n",
              "      <th>age</th>\n",
              "    </tr>\n",
              "  </thead>\n",
              "  <tbody>\n",
              "    <tr>\n",
              "      <th>0</th>\n",
              "      <td>Ray</td>\n",
              "      <td>Morley</td>\n",
              "      <td>18</td>\n",
              "    </tr>\n",
              "    <tr>\n",
              "      <th>1</th>\n",
              "      <td>Melvin</td>\n",
              "      <td>Scott</td>\n",
              "      <td>24</td>\n",
              "    </tr>\n",
              "    <tr>\n",
              "      <th>2</th>\n",
              "      <td>Amirah</td>\n",
              "      <td>Haley</td>\n",
              "      <td>22</td>\n",
              "    </tr>\n",
              "    <tr>\n",
              "      <th>3</th>\n",
              "      <td>Gerard</td>\n",
              "      <td>Mills</td>\n",
              "      <td>19</td>\n",
              "    </tr>\n",
              "    <tr>\n",
              "      <th>4</th>\n",
              "      <td>Amy</td>\n",
              "      <td>Grimes</td>\n",
              "      <td>23</td>\n",
              "    </tr>\n",
              "  </tbody>\n",
              "</table>\n",
              "</div>"
            ],
            "text/plain": [
              "  first_name last_name  age\n",
              "0        Ray    Morley   18\n",
              "1     Melvin     Scott   24\n",
              "2     Amirah     Haley   22\n",
              "3     Gerard     Mills   19\n",
              "4        Amy    Grimes   23"
            ]
          },
          "execution_count": 43,
          "metadata": {},
          "output_type": "execute_result"
        }
      ],
      "source": [
        "pd.read_csv('exam_review.csv',\n",
        "            usecols=[0, 1, 2],\n",
        "            sep='>')"
      ]
    },
    {
      "cell_type": "markdown",
      "metadata": {
        "id": "-FInFo9tQ8lw"
      },
      "source": [
        "![green-divider](https://user-images.githubusercontent.com/7065401/52071924-c003ad80-2562-11e9-8297-1c6595f8a7ff.png)\n",
        "\n",
        "## Using a `Series` instead of `DataFrame`\n",
        "\n",
        "If the parsed data only contains one column then we can return a Series by setting the `squeeze` parameter to `True`."
      ]
    },
    {
      "cell_type": "code",
      "execution_count": null,
      "metadata": {
        "id": "TBf10hP-Q8lw"
      },
      "outputs": [],
      "source": [
        "exam_test_1 = pd.read_csv('exam_review.csv',\n",
        "                          sep='>',\n",
        "                          usecols=['last_name'])"
      ]
    },
    {
      "cell_type": "code",
      "execution_count": null,
      "metadata": {
        "id": "Vr6m0MI3Q8lw",
        "outputId": "272e6024-7394-4a6b-9bcf-e41e1b3731d5"
      },
      "outputs": [
        {
          "data": {
            "text/plain": [
              "pandas.core.frame.DataFrame"
            ]
          },
          "execution_count": 45,
          "metadata": {},
          "output_type": "execute_result"
        }
      ],
      "source": [
        "type(exam_test_1)"
      ]
    },
    {
      "cell_type": "code",
      "execution_count": null,
      "metadata": {
        "id": "OpE3fsb5Q8lw"
      },
      "outputs": [],
      "source": [
        "exam_test_2 = pd.read_csv('exam_review.csv',\n",
        "                          sep='>',\n",
        "                          usecols=['last_name'],\n",
        "                          squeeze=True)"
      ]
    },
    {
      "cell_type": "code",
      "execution_count": null,
      "metadata": {
        "id": "uzjWk6RLQ8lw",
        "outputId": "d269a247-e312-4776-a627-c94da626b4a6"
      },
      "outputs": [
        {
          "data": {
            "text/plain": [
              "pandas.core.series.Series"
            ]
          },
          "execution_count": 47,
          "metadata": {},
          "output_type": "execute_result"
        }
      ],
      "source": [
        "type(exam_test_2)"
      ]
    },
    {
      "cell_type": "markdown",
      "metadata": {
        "id": "n3fy5r5TQ8lx"
      },
      "source": [
        "![green-divider](https://user-images.githubusercontent.com/7065401/52071924-c003ad80-2562-11e9-8297-1c6595f8a7ff.png)\n",
        "\n",
        "## Save to CSV file\n",
        "\n",
        "Finally we can also save our `DataFrame` as a CSV file."
      ]
    },
    {
      "cell_type": "code",
      "execution_count": null,
      "metadata": {
        "id": "kv1SwiqfQ8lx",
        "outputId": "369963b9-005f-4e59-e3fc-8219735408e7"
      },
      "outputs": [
        {
          "data": {
            "text/html": [
              "<div>\n",
              "<style scoped>\n",
              "    .dataframe tbody tr th:only-of-type {\n",
              "        vertical-align: middle;\n",
              "    }\n",
              "\n",
              "    .dataframe tbody tr th {\n",
              "        vertical-align: top;\n",
              "    }\n",
              "\n",
              "    .dataframe thead th {\n",
              "        text-align: right;\n",
              "    }\n",
              "</style>\n",
              "<table border=\"1\" class=\"dataframe\">\n",
              "  <thead>\n",
              "    <tr style=\"text-align: right;\">\n",
              "      <th></th>\n",
              "      <th>first_name</th>\n",
              "      <th>last_name</th>\n",
              "      <th>age</th>\n",
              "      <th>math_score</th>\n",
              "      <th>french_score</th>\n",
              "    </tr>\n",
              "  </thead>\n",
              "  <tbody>\n",
              "    <tr>\n",
              "      <th>0</th>\n",
              "      <td>Melvin</td>\n",
              "      <td>Scott</td>\n",
              "      <td>24</td>\n",
              "      <td>77.0</td>\n",
              "      <td>83</td>\n",
              "    </tr>\n",
              "    <tr>\n",
              "      <th>1</th>\n",
              "      <td>Gerard</td>\n",
              "      <td>Mills</td>\n",
              "      <td>19</td>\n",
              "      <td>78.0</td>\n",
              "      <td>72</td>\n",
              "    </tr>\n",
              "    <tr>\n",
              "      <th>2</th>\n",
              "      <td>Amy</td>\n",
              "      <td>Grimes</td>\n",
              "      <td>23</td>\n",
              "      <td>91.0</td>\n",
              "      <td>81</td>\n",
              "    </tr>\n",
              "  </tbody>\n",
              "</table>\n",
              "</div>"
            ],
            "text/plain": [
              "  first_name last_name  age  math_score  french_score\n",
              "0     Melvin     Scott   24        77.0            83\n",
              "1     Gerard     Mills   19        78.0            72\n",
              "2        Amy    Grimes   23        91.0            81"
            ]
          },
          "execution_count": 48,
          "metadata": {},
          "output_type": "execute_result"
        }
      ],
      "source": [
        "exam_df"
      ]
    },
    {
      "cell_type": "markdown",
      "metadata": {
        "id": "J6oExDcHQ8lx"
      },
      "source": [
        "We can simply generate a CSV string from our `DataFrame`:"
      ]
    },
    {
      "cell_type": "code",
      "execution_count": null,
      "metadata": {
        "id": "CpjckzljQ8lx",
        "outputId": "39991aa5-4822-405c-d62d-5deac2459d2f"
      },
      "outputs": [
        {
          "data": {
            "text/plain": [
              "',first_name,last_name,age,math_score,french_score\\n0,Melvin,Scott,24,77.0,83\\n1,Gerard,Mills,19,78.0,72\\n2,Amy,Grimes,23,91.0,81\\n'"
            ]
          },
          "execution_count": 49,
          "metadata": {},
          "output_type": "execute_result"
        }
      ],
      "source": [
        "exam_df.to_csv()"
      ]
    },
    {
      "cell_type": "markdown",
      "metadata": {
        "id": "oK6Ft1uAQ8lx"
      },
      "source": [
        "Or specify a file path where we want our generated CSV code to be saved:"
      ]
    },
    {
      "cell_type": "code",
      "execution_count": null,
      "metadata": {
        "id": "wK9voZpGQ8lx"
      },
      "outputs": [],
      "source": [
        "exam_df.to_csv('out.csv')"
      ]
    },
    {
      "cell_type": "code",
      "execution_count": null,
      "metadata": {
        "id": "T5DoCZ1AQ8lx",
        "outputId": "33ed5ee0-2782-4e23-b1bf-9b456e1fbeb5"
      },
      "outputs": [
        {
          "data": {
            "text/html": [
              "<div>\n",
              "<style scoped>\n",
              "    .dataframe tbody tr th:only-of-type {\n",
              "        vertical-align: middle;\n",
              "    }\n",
              "\n",
              "    .dataframe tbody tr th {\n",
              "        vertical-align: top;\n",
              "    }\n",
              "\n",
              "    .dataframe thead th {\n",
              "        text-align: right;\n",
              "    }\n",
              "</style>\n",
              "<table border=\"1\" class=\"dataframe\">\n",
              "  <thead>\n",
              "    <tr style=\"text-align: right;\">\n",
              "      <th></th>\n",
              "      <th>Unnamed: 0</th>\n",
              "      <th>first_name</th>\n",
              "      <th>last_name</th>\n",
              "      <th>age</th>\n",
              "      <th>math_score</th>\n",
              "      <th>french_score</th>\n",
              "    </tr>\n",
              "  </thead>\n",
              "  <tbody>\n",
              "    <tr>\n",
              "      <th>0</th>\n",
              "      <td>0</td>\n",
              "      <td>Melvin</td>\n",
              "      <td>Scott</td>\n",
              "      <td>24</td>\n",
              "      <td>77.0</td>\n",
              "      <td>83</td>\n",
              "    </tr>\n",
              "    <tr>\n",
              "      <th>1</th>\n",
              "      <td>1</td>\n",
              "      <td>Gerard</td>\n",
              "      <td>Mills</td>\n",
              "      <td>19</td>\n",
              "      <td>78.0</td>\n",
              "      <td>72</td>\n",
              "    </tr>\n",
              "    <tr>\n",
              "      <th>2</th>\n",
              "      <td>2</td>\n",
              "      <td>Amy</td>\n",
              "      <td>Grimes</td>\n",
              "      <td>23</td>\n",
              "      <td>91.0</td>\n",
              "      <td>81</td>\n",
              "    </tr>\n",
              "  </tbody>\n",
              "</table>\n",
              "</div>"
            ],
            "text/plain": [
              "   Unnamed: 0 first_name last_name  age  math_score  french_score\n",
              "0           0     Melvin     Scott   24        77.0            83\n",
              "1           1     Gerard     Mills   19        78.0            72\n",
              "2           2        Amy    Grimes   23        91.0            81"
            ]
          },
          "execution_count": 51,
          "metadata": {},
          "output_type": "execute_result"
        }
      ],
      "source": [
        "pd.read_csv('out.csv')"
      ]
    },
    {
      "cell_type": "code",
      "execution_count": null,
      "metadata": {
        "id": "x_KMeiS0Q8lx"
      },
      "outputs": [],
      "source": [
        "exam_df.to_csv('out.csv',\n",
        "               index=None)"
      ]
    },
    {
      "cell_type": "code",
      "execution_count": null,
      "metadata": {
        "scrolled": true,
        "id": "JfCIcQ1-Q8lx",
        "outputId": "b3517d15-2fd9-49a3-8368-409222627d99"
      },
      "outputs": [
        {
          "data": {
            "text/html": [
              "<div>\n",
              "<style scoped>\n",
              "    .dataframe tbody tr th:only-of-type {\n",
              "        vertical-align: middle;\n",
              "    }\n",
              "\n",
              "    .dataframe tbody tr th {\n",
              "        vertical-align: top;\n",
              "    }\n",
              "\n",
              "    .dataframe thead th {\n",
              "        text-align: right;\n",
              "    }\n",
              "</style>\n",
              "<table border=\"1\" class=\"dataframe\">\n",
              "  <thead>\n",
              "    <tr style=\"text-align: right;\">\n",
              "      <th></th>\n",
              "      <th>first_name</th>\n",
              "      <th>last_name</th>\n",
              "      <th>age</th>\n",
              "      <th>math_score</th>\n",
              "      <th>french_score</th>\n",
              "    </tr>\n",
              "  </thead>\n",
              "  <tbody>\n",
              "    <tr>\n",
              "      <th>0</th>\n",
              "      <td>Melvin</td>\n",
              "      <td>Scott</td>\n",
              "      <td>24</td>\n",
              "      <td>77.0</td>\n",
              "      <td>83</td>\n",
              "    </tr>\n",
              "    <tr>\n",
              "      <th>1</th>\n",
              "      <td>Gerard</td>\n",
              "      <td>Mills</td>\n",
              "      <td>19</td>\n",
              "      <td>78.0</td>\n",
              "      <td>72</td>\n",
              "    </tr>\n",
              "    <tr>\n",
              "      <th>2</th>\n",
              "      <td>Amy</td>\n",
              "      <td>Grimes</td>\n",
              "      <td>23</td>\n",
              "      <td>91.0</td>\n",
              "      <td>81</td>\n",
              "    </tr>\n",
              "  </tbody>\n",
              "</table>\n",
              "</div>"
            ],
            "text/plain": [
              "  first_name last_name  age  math_score  french_score\n",
              "0     Melvin     Scott   24        77.0            83\n",
              "1     Gerard     Mills   19        78.0            72\n",
              "2        Amy    Grimes   23        91.0            81"
            ]
          },
          "execution_count": 53,
          "metadata": {},
          "output_type": "execute_result"
        }
      ],
      "source": [
        "pd.read_csv('out.csv')"
      ]
    },
    {
      "cell_type": "markdown",
      "metadata": {
        "id": "dSMhP0RtQ8lx"
      },
      "source": [
        "![purple-divider](https://user-images.githubusercontent.com/7065401/52071927-c1cd7100-2562-11e9-908a-dde91ba14e59.png)"
      ]
    }
  ],
  "metadata": {
    "kernelspec": {
      "display_name": "Python 3",
      "language": "python",
      "name": "python3"
    },
    "language_info": {
      "codemirror_mode": {
        "name": "ipython",
        "version": 3
      },
      "file_extension": ".py",
      "mimetype": "text/x-python",
      "name": "python",
      "nbconvert_exporter": "python",
      "pygments_lexer": "ipython3",
      "version": "3.6.8"
    },
    "colab": {
      "provenance": []
    }
  },
  "nbformat": 4,
  "nbformat_minor": 0
}